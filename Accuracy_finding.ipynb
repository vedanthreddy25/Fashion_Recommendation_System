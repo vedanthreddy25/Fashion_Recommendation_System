{
 "cells": [
  {
   "cell_type": "code",
   "execution_count": 3,
   "id": "14cbceb0",
   "metadata": {},
   "outputs": [
    {
     "name": "stdout",
     "output_type": "stream",
     "text": [
      "No of correctly recommend product  43\n",
      "No of worngly recommend product  17\n",
      "Accuracy of model using ResNet50: 71.67%\n"
     ]
    }
   ],
   "source": [
    "import pandas as pd\n",
    "\n",
    "# Load the CSV file\n",
    "file_path = 'resnet50_feedback.csv' \n",
    "data = pd.read_csv(file_path)\n",
    "\n",
    "# Calculate the accuracy of ratings 3 and above\n",
    "total_ratings = data.shape[0]\n",
    "ratings_3_and_above = data[data['rating'] >= 3].shape[0]\n",
    "\n",
    "accuracy_3_and_above = (ratings_3_and_above / total_ratings) * 100 if total_ratings > 0 else 0\n",
    "\n",
    "# Print the result\n",
    "print(\"No of correctly recommend product \",ratings_3_and_above)\n",
    "print(\"No of worngly recommend product \",(total_ratings-ratings_3_and_above))\n",
    "print(f\"Accuracy of model using ResNet50: {accuracy_3_and_above:.2f}%\")\n"
   ]
  },
  {
   "cell_type": "code",
   "execution_count": 4,
   "id": "068c0ec8",
   "metadata": {},
   "outputs": [
    {
     "name": "stdout",
     "output_type": "stream",
     "text": [
      "No of correctly recommend product  37\n",
      "No of worngly recommend product  23\n",
      "Accuracy of model using EfficientNetB7_feedback: 61.67%\n"
     ]
    }
   ],
   "source": [
    "import pandas as pd\n",
    "\n",
    "# Load the CSV file\n",
    "file_path = 'efficientnetB7_feedback.csv' \n",
    "data = pd.read_csv(file_path)\n",
    "\n",
    "# Calculate the accuracy of ratings 3 and above\n",
    "total_ratings = data.shape[0]\n",
    "ratings_3_and_above = data[data['rating'] >= 3].shape[0]\n",
    "\n",
    "accuracy_3_and_above = (ratings_3_and_above / total_ratings) * 100 if total_ratings > 0 else 0\n",
    "\n",
    "# Print the result\n",
    "print(\"No of correctly recommend product \",ratings_3_and_above)\n",
    "print(\"No of worngly recommend product \",(total_ratings-ratings_3_and_above))\n",
    "print(f\"Accuracy of model using EfficientNetB7_feedback: {accuracy_3_and_above:.2f}%\")\n"
   ]
  },
  {
   "cell_type": "code",
   "execution_count": null,
   "id": "579d922f",
   "metadata": {},
   "outputs": [],
   "source": []
  }
 ],
 "metadata": {
  "kernelspec": {
   "display_name": "Python 3 (ipykernel)",
   "language": "python",
   "name": "python3"
  },
  "language_info": {
   "codemirror_mode": {
    "name": "ipython",
    "version": 3
   },
   "file_extension": ".py",
   "mimetype": "text/x-python",
   "name": "python",
   "nbconvert_exporter": "python",
   "pygments_lexer": "ipython3",
   "version": "3.11.4"
  }
 },
 "nbformat": 4,
 "nbformat_minor": 5
}
